{
  "nbformat": 4,
  "nbformat_minor": 0,
  "metadata": {
    "colab": {
      "provenance": [],
      "gpuType": "T4"
    },
    "kernelspec": {
      "name": "python3",
      "display_name": "Python 3"
    },
    "language_info": {
      "name": "python"
    },
    "accelerator": "GPU"
  },
  "cells": [
    {
      "cell_type": "code",
      "execution_count": 15,
      "metadata": {
        "id": "xBh75guJbOeh",
        "colab": {
          "base_uri": "https://localhost:8080/"
        },
        "outputId": "e3041875-3626-4d3f-ed0f-c4dfb00c6df6"
      },
      "outputs": [
        {
          "output_type": "stream",
          "name": "stdout",
          "text": [
            "Drive already mounted at /content/drive; to attempt to forcibly remount, call drive.mount(\"/content/drive\", force_remount=True).\n",
            "\n",
            "Настройка завершена!\n"
          ]
        }
      ],
      "source": [
        "# ==============================================================================\n",
        "# ЯЧЕЙКА 1: УСТАНОВКА, ПОДКЛЮЧЕНИЕ К GDRIVE И КОНФИГУРАЦИЯ\n",
        "# ==============================================================================\n",
        "\n",
        "# Проверяем, что GPU доступен\n",
        "#!nvidia-smi\n",
        "\n",
        "# Устанавливаем lightkurve\n",
        "!pip install lightkurve -q # -q значит \"тихая\" установка без лишнего вывода\n",
        "\n",
        "# Импортируем все необходимые библиотеки\n",
        "import numpy as np\n",
        "import pandas as pd\n",
        "import lightkurve as lk\n",
        "import tensorflow as tf\n",
        "from tensorflow.keras.models import Model\n",
        "from tensorflow.keras.layers import Input, Conv1D, MaxPooling1D, Flatten, Dense, Concatenate, BatchNormalization, Dropout\n",
        "from tensorflow.keras.utils import Sequence\n",
        "from sklearn.model_selection import train_test_split\n",
        "import glob\n",
        "import os\n",
        "import random\n",
        "\n",
        "# --- КОНФИГУРАЦИЯ ПРОЕКТА ---\n",
        "# /content/drive/MyDrive/NASA/data1/KEPLER/Light Curves\n",
        "# Пути к вашим данным на Google Drive\n",
        "GDRIVE_BASE_PATH = '/content/drive/MyDrive/NASA/data1/KEPLER/'\n",
        "LC_FILES_PATH = GDRIVE_BASE_PATH + \"Light Curves/\"\n",
        "KOI_CATALOG_PATH = GDRIVE_BASE_PATH + 'KOI (Cumulative List).csv'\n",
        "\n",
        "# Параметры модели и данных\n",
        "GLOBAL_VIEW_SIZE = 2048 # Длина вектора для глобального обзора (всей кривой)\n",
        "LOCAL_VIEW_SIZE = 256    # Длина вектора для локального обзора (\"свернутой\" кривой)\n",
        "BATCH_SIZE = 32          # Сколько примеров обрабатывать за раз. Если будет ошибка памяти, уменьшите до 32.\n",
        "EPOCHS = 13              # Сколько раз прогонять все данные через модель\n",
        "\n",
        "# Подключаем Google Drive\n",
        "from google.colab import drive\n",
        "drive.mount('/content/drive')\n",
        "\n",
        "print(\"\\nНастройка завершена!\")"
      ]
    },
    {
      "cell_type": "code",
      "source": [
        "# ==============================================================================\n",
        "# ЯЧЕЙКА 2: ЗАГРУЗКА КАТАЛОГА И ПОДГОТОВКА СПИСКОВ ФАЙЛОВ (с диагностикой)\n",
        "# ==============================================================================\n",
        "\n",
        "print(\"Загружаем каталог KOI...\")\n",
        "try:\n",
        "    koi_df = pd.read_csv(KOI_CATALOG_PATH, comment='#')\n",
        "    koi_df.columns = koi_df.columns.str.strip()\n",
        "    print(f\"Каталог KOI успешно загружен. Всего записей: {len(koi_df)}\")\n",
        "\n",
        "    confirmed_planets = koi_df[koi_df['koi_disposition'] == 'CONFIRMED']\n",
        "    false_positives = koi_df[koi_df['koi_disposition'] == 'FALSE POSITIVE']\n",
        "\n",
        "    positive_ids = confirmed_planets['kepid'].unique()\n",
        "    negative_ids = false_positives['kepid'].unique()\n",
        "\n",
        "    print(f\"Найдено {len(positive_ids)} звезд с подтвержденными планетами в каталоге.\")\n",
        "    print(f\"Найдено {len(negative_ids)} звезд с ложными срабатываниями в каталоге.\")\n",
        "\n",
        "    print(\"\\nСканируем папку с кривыми блеска...\")\n",
        "    all_fits_files = glob.glob(LC_FILES_PATH + '*.fits')\n",
        "    if not all_fits_files:\n",
        "        print(LC_FILES_PATH)\n",
        "        raise FileNotFoundError(\"Не найдено ни одного .fits файла! Проверьте путь LC_FILES_PATH.\")\n",
        "\n",
        "    file_map = {int(os.path.basename(f).split('-')[0].replace('kplr', '')): f for f in all_fits_files}\n",
        "    print(f\"Всего найдено {len(file_map)} уникальных файлов звезд.\")\n",
        "\n",
        "    # --- Создаем финальные списки данных для обучения ---\n",
        "    positive_samples = []\n",
        "    for kepid in positive_ids:\n",
        "        if kepid in file_map:\n",
        "            planet_params = confirmed_planets[confirmed_planets['kepid'] == kepid][['koi_period', 'koi_time0bk']].to_dict('records')\n",
        "            positive_samples.append({'kepid': kepid, 'path': file_map[kepid], 'params': planet_params, 'label': 1})\n",
        "\n",
        "    negative_samples = []\n",
        "    for kepid in negative_ids:\n",
        "        if kepid in file_map:\n",
        "            negative_samples.append({'kepid': kepid, 'path': file_map[kepid], 'params': [], 'label': 0})\n",
        "\n",
        "    # --- ДИАГНОСТИКА ---\n",
        "    print(\"\\n--- ДИАГНОСТИКА ---\")\n",
        "    print(f\"Найдено совпадений (звезды, которые есть и в каталоге, и в файлах):\")\n",
        "    print(f\"Положительных примеров (планеты): {len(positive_samples)}\")\n",
        "    print(f\"Отрицательных примеров (не планеты): {len(negative_samples)}\")\n",
        "    print(\"--------------------\")\n",
        "\n",
        "    # Сбалансируем классы\n",
        "    max_negatives = len(positive_samples) * 2\n",
        "    if len(negative_samples) > max_negatives:\n",
        "        negative_samples = random.sample(negative_samples, max_negatives)\n",
        "\n",
        "    all_samples = positive_samples + negative_samples\n",
        "    if len(all_samples) == 0:\n",
        "        raise ValueError(\"После сопоставления с файлами не осталось ни одного примера для обучения. Проверьте содержимое архива.\")\n",
        "\n",
        "    random.shuffle(all_samples)\n",
        "    print(f\"\\nВсего примеров для обучения после балансировки: {len(all_samples)}\")\n",
        "\n",
        "    # Делим на обучающую и валидационную выборки\n",
        "    train_samples, val_samples = train_test_split(all_samples, test_size=0.2, random_state=42)\n",
        "\n",
        "    # --- ЕЩЕ ДИАГНОСТИКА ---\n",
        "    print(f\"\\nРазмер обучающей выборки (train_samples): {len(train_samples)}\")\n",
        "    print(f\"Размер валидационной выборки (val_samples): {len(val_samples)}\")\n",
        "    print(f\"Размер батча (BATCH_SIZE): {BATCH_SIZE}\")\n",
        "\n",
        "    if len(train_samples) < BATCH_SIZE:\n",
        "        print(\"\\nВНИМАНИЕ! Размер обучающей выборки меньше размера батча. Это вызовет ошибку 'length 0'.\")\n",
        "        print(\"Рекомендация: Скачайте больше данных или уменьшите BATCH_SIZE.\")\n",
        "\n",
        "except Exception as e:\n",
        "    print(f\"\\nПроизошла ошибка: {e}\")"
      ],
      "metadata": {
        "colab": {
          "base_uri": "https://localhost:8080/"
        },
        "id": "88LoUGKk-Gg_",
        "outputId": "57f7f42e-51b3-4425-ddab-1295b62a242c"
      },
      "execution_count": 16,
      "outputs": [
        {
          "output_type": "stream",
          "name": "stdout",
          "text": [
            "Загружаем каталог KOI...\n",
            "Каталог KOI успешно загружен. Всего записей: 9564\n",
            "Найдено 1973 звезд с подтвержденными планетами в каталоге.\n",
            "Найдено 4713 звезд с ложными срабатываниями в каталоге.\n",
            "\n",
            "Сканируем папку с кривыми блеска...\n",
            "Всего найдено 17156 уникальных файлов звезд.\n",
            "\n",
            "--- ДИАГНОСТИКА ---\n",
            "Найдено совпадений (звезды, которые есть и в каталоге, и в файлах):\n",
            "Положительных примеров (планеты): 177\n",
            "Отрицательных примеров (не планеты): 510\n",
            "--------------------\n",
            "\n",
            "Всего примеров для обучения после балансировки: 531\n",
            "\n",
            "Размер обучающей выборки (train_samples): 424\n",
            "Размер валидационной выборки (val_samples): 107\n",
            "Размер батча (BATCH_SIZE): 32\n"
          ]
        }
      ]
    },
    {
      "cell_type": "code",
      "source": [
        "# ==============================================================================\n",
        "# ЯЧЕЙКА 3: DATA GENERATOR\n",
        "# ==============================================================================\n",
        "\n",
        "class DataGenerator(Sequence):\n",
        "    \"\"\"\n",
        "    Генератор данных для Keras. \"На лету\" загружает и обрабатывает .fits файлы.\n",
        "    \"\"\"\n",
        "    def __init__(self, samples, batch_size, global_size, local_size):\n",
        "        self.samples = samples\n",
        "        self.batch_size = batch_size\n",
        "        self.global_size = global_size\n",
        "        self.local_size = local_size\n",
        "\n",
        "    def __len__(self):\n",
        "        return int(np.floor(len(self.samples) / self.batch_size))\n",
        "\n",
        "    def __getitem__(self, index):\n",
        "        batch_samples = self.samples[index * self.batch_size:(index + 1) * self.batch_size]\n",
        "\n",
        "        # Здесь мы будем хранить готовые данные для батча\n",
        "        batch_global = np.zeros((self.batch_size, self.global_size, 1))\n",
        "        batch_local = np.zeros((self.batch_size, self.local_size, 1))\n",
        "        batch_y = np.zeros(self.batch_size)\n",
        "\n",
        "        for i, sample in enumerate(batch_samples):\n",
        "            try:\n",
        "                # Читаем и обрабатываем кривую блеска\n",
        "                # lc = lk.read(sample['path']).PDCSAP_FLUX.remove_nans()\n",
        "                # Сначала читаем файл\n",
        "                lc_file = lk.read(sample['path'])\n",
        "                # Затем явно запрашиваем нужную кривую блеска\n",
        "                lc = lc_file.get_lightcurve('PDCSAP_FLUX').remove_nans()\n",
        "                flat_lc = lc.flatten(window_length=1001)\n",
        "\n",
        "                # 1. Глобальный обзор\n",
        "                # Нормализуем и интерполируем до нужного размера\n",
        "                normalized_flux = flat_lc.flux.value / np.median(flat_lc.flux.value)\n",
        "                global_view = np.interp(\n",
        "                    np.linspace(0, len(normalized_flux) - 1, self.global_size),\n",
        "                    np.arange(len(normalized_flux)),\n",
        "                    normalized_flux\n",
        "                )\n",
        "\n",
        "                # 2. Локальный обзор\n",
        "                if sample['label'] == 1: # Если это планета\n",
        "                    # Сворачиваем по параметрам первой планеты в списке\n",
        "                    period = sample['params'][0]['koi_period']\n",
        "                    t0 = sample['params'][0]['koi_time0bk']\n",
        "                    folded_lc = flat_lc.fold(period=period, epoch_time=t0)\n",
        "\n",
        "                    # Интерполируем до нужного размера\n",
        "                    folded_flux = folded_lc.flux.value\n",
        "                    local_view = np.interp(\n",
        "                        np.linspace(0, len(folded_flux) - 1, self.local_size),\n",
        "                        np.arange(len(folded_flux)),\n",
        "                        folded_flux\n",
        "                    )\n",
        "                else: # Если это не планета\n",
        "                    # Просто берем случайный участок из глобального обзора\n",
        "                    start = np.random.randint(0, self.global_size - self.local_size)\n",
        "                    local_view = global_view[start:start + self.local_size]\n",
        "\n",
        "                # Записываем в батч\n",
        "                batch_global[i,] = (global_view - np.mean(global_view)) / np.std(global_view)\n",
        "                batch_local[i,] = (local_view - np.mean(local_view)) / np.std(local_view)\n",
        "                batch_y[i] = sample['label']\n",
        "\n",
        "            except Exception as e:\n",
        "                # Если файл битый или пустой, пропускаем его\n",
        "                # print(f\"Warning: Could not process file {sample['path']}. Error: {e}\")\n",
        "                pass # В реальном обучении лучше логировать ошибки\n",
        "\n",
        "        return {'global_input': batch_global, 'local_input': batch_local}, batch_y\n",
        "\n",
        "# Создаем экземпляры генераторов\n",
        "train_gen = DataGenerator(train_samples, BATCH_SIZE, GLOBAL_VIEW_SIZE, LOCAL_VIEW_SIZE)\n",
        "val_gen = DataGenerator(val_samples, BATCH_SIZE, GLOBAL_VIEW_SIZE, LOCAL_VIEW_SIZE)\n",
        "\n",
        "print(\"\\nГенераторы данных созданы.\")"
      ],
      "metadata": {
        "colab": {
          "base_uri": "https://localhost:8080/"
        },
        "id": "twXZhcaI-SfQ",
        "outputId": "f2e41d15-00bc-44e0-f05a-a42ea2e554e5"
      },
      "execution_count": 17,
      "outputs": [
        {
          "output_type": "stream",
          "name": "stdout",
          "text": [
            "\n",
            "Генераторы данных созданы.\n"
          ]
        }
      ]
    },
    {
      "cell_type": "code",
      "source": [
        "# ==============================================================================\n",
        "# ЯЧЕЙКА 4: АРХИТЕКТУРА MULTI-BRANCH HYBRID NETWORK (MBHN)\n",
        "# ==============================================================================\n",
        "\n",
        "def build_mbhn(global_shape, local_shape):\n",
        "    # --- Ветвь 1: Глобальный Охотник (ищет периодичность) ---\n",
        "    global_input = Input(shape=global_shape, name='global_input')\n",
        "    x = Conv1D(filters=16, kernel_size=7, activation='relu', padding='same')(global_input)\n",
        "    x = BatchNormalization()(x)\n",
        "    x = MaxPooling1D(pool_size=5)(x)\n",
        "    x = Conv1D(filters=32, kernel_size=5, activation='relu', padding='same')(x)\n",
        "    x = BatchNormalization()(x)\n",
        "    x = MaxPooling1D(pool_size=5)(x)\n",
        "    global_features = Flatten()(x)\n",
        "\n",
        "    # --- Ветвь 2: Локальный Эксперт (анализирует форму транзита) ---\n",
        "    local_input = Input(shape=local_shape, name='local_input')\n",
        "    y = Conv1D(filters=16, kernel_size=7, activation='relu', padding='same')(local_input)\n",
        "    y = BatchNormalization()(y)\n",
        "    y = MaxPooling1D(pool_size=3)(y)\n",
        "    y = Conv1D(filters=32, kernel_size=5, activation='relu', padding='same')(y)\n",
        "    y = BatchNormalization()(y)\n",
        "    y = MaxPooling1D(pool_size=3)(y)\n",
        "    y = Conv1D(filters=64, kernel_size=3, activation='relu', padding='same')(y)\n",
        "    y = BatchNormalization()(y)\n",
        "    local_features = Flatten()(y)\n",
        "\n",
        "    # --- Слияние (Fusion) и Голова (Head) ---\n",
        "    concatenated = Concatenate()([global_features, local_features])\n",
        "    z = Dense(128, activation='relu')(concatenated)\n",
        "    z = Dropout(0.5)(z)\n",
        "    z = Dense(64, activation='relu')(z)\n",
        "    output = Dense(1, activation='sigmoid')(z)\n",
        "\n",
        "    # --- Создание и компиляция модели ---\n",
        "    model = Model(inputs=[global_input, local_input], outputs=output)\n",
        "    model.compile(optimizer='adam',\n",
        "                  loss='binary_crossentropy',\n",
        "                  metrics=['accuracy'])\n",
        "\n",
        "    return model\n",
        "\n",
        "# Создаем модель\n",
        "model = build_mbhn(global_shape=(GLOBAL_VIEW_SIZE, 1), local_shape=(LOCAL_VIEW_SIZE, 1))\n",
        "\n",
        "# Выводим архитектуру\n",
        "model.summary()"
      ],
      "metadata": {
        "id": "YX2Qg2f5L_h_",
        "colab": {
          "base_uri": "https://localhost:8080/",
          "height": 1000
        },
        "outputId": "b2bbface-901e-425d-adc9-33ba37e82d9e"
      },
      "execution_count": 18,
      "outputs": [
        {
          "output_type": "display_data",
          "data": {
            "text/plain": [
              "\u001b[1mModel: \"functional_2\"\u001b[0m\n"
            ],
            "text/html": [
              "<pre style=\"white-space:pre;overflow-x:auto;line-height:normal;font-family:Menlo,'DejaVu Sans Mono',consolas,'Courier New',monospace\"><span style=\"font-weight: bold\">Model: \"functional_2\"</span>\n",
              "</pre>\n"
            ]
          },
          "metadata": {}
        },
        {
          "output_type": "display_data",
          "data": {
            "text/plain": [
              "┏━━━━━━━━━━━━━━━━━━━━━┳━━━━━━━━━━━━━━━━━━━┳━━━━━━━━━━━━┳━━━━━━━━━━━━━━━━━━━┓\n",
              "┃\u001b[1m \u001b[0m\u001b[1mLayer (type)       \u001b[0m\u001b[1m \u001b[0m┃\u001b[1m \u001b[0m\u001b[1mOutput Shape     \u001b[0m\u001b[1m \u001b[0m┃\u001b[1m \u001b[0m\u001b[1m   Param #\u001b[0m\u001b[1m \u001b[0m┃\u001b[1m \u001b[0m\u001b[1mConnected to     \u001b[0m\u001b[1m \u001b[0m┃\n",
              "┡━━━━━━━━━━━━━━━━━━━━━╇━━━━━━━━━━━━━━━━━━━╇━━━━━━━━━━━━╇━━━━━━━━━━━━━━━━━━━┩\n",
              "│ local_input         │ (\u001b[38;5;45mNone\u001b[0m, \u001b[38;5;34m256\u001b[0m, \u001b[38;5;34m1\u001b[0m)    │          \u001b[38;5;34m0\u001b[0m │ -                 │\n",
              "│ (\u001b[38;5;33mInputLayer\u001b[0m)        │                   │            │                   │\n",
              "├─────────────────────┼───────────────────┼────────────┼───────────────────┤\n",
              "│ conv1d_12 (\u001b[38;5;33mConv1D\u001b[0m)  │ (\u001b[38;5;45mNone\u001b[0m, \u001b[38;5;34m256\u001b[0m, \u001b[38;5;34m16\u001b[0m)   │        \u001b[38;5;34m128\u001b[0m │ local_input[\u001b[38;5;34m0\u001b[0m][\u001b[38;5;34m0\u001b[0m] │\n",
              "├─────────────────────┼───────────────────┼────────────┼───────────────────┤\n",
              "│ global_input        │ (\u001b[38;5;45mNone\u001b[0m, \u001b[38;5;34m2048\u001b[0m, \u001b[38;5;34m1\u001b[0m)   │          \u001b[38;5;34m0\u001b[0m │ -                 │\n",
              "│ (\u001b[38;5;33mInputLayer\u001b[0m)        │                   │            │                   │\n",
              "├─────────────────────┼───────────────────┼────────────┼───────────────────┤\n",
              "│ batch_normalizatio… │ (\u001b[38;5;45mNone\u001b[0m, \u001b[38;5;34m256\u001b[0m, \u001b[38;5;34m16\u001b[0m)   │         \u001b[38;5;34m64\u001b[0m │ conv1d_12[\u001b[38;5;34m0\u001b[0m][\u001b[38;5;34m0\u001b[0m]   │\n",
              "│ (\u001b[38;5;33mBatchNormalizatio…\u001b[0m │                   │            │                   │\n",
              "├─────────────────────┼───────────────────┼────────────┼───────────────────┤\n",
              "│ conv1d_10 (\u001b[38;5;33mConv1D\u001b[0m)  │ (\u001b[38;5;45mNone\u001b[0m, \u001b[38;5;34m2048\u001b[0m, \u001b[38;5;34m16\u001b[0m)  │        \u001b[38;5;34m128\u001b[0m │ global_input[\u001b[38;5;34m0\u001b[0m][\u001b[38;5;34m…\u001b[0m │\n",
              "├─────────────────────┼───────────────────┼────────────┼───────────────────┤\n",
              "│ max_pooling1d_10    │ (\u001b[38;5;45mNone\u001b[0m, \u001b[38;5;34m85\u001b[0m, \u001b[38;5;34m16\u001b[0m)    │          \u001b[38;5;34m0\u001b[0m │ batch_normalizat… │\n",
              "│ (\u001b[38;5;33mMaxPooling1D\u001b[0m)      │                   │            │                   │\n",
              "├─────────────────────┼───────────────────┼────────────┼───────────────────┤\n",
              "│ batch_normalizatio… │ (\u001b[38;5;45mNone\u001b[0m, \u001b[38;5;34m2048\u001b[0m, \u001b[38;5;34m16\u001b[0m)  │         \u001b[38;5;34m64\u001b[0m │ conv1d_10[\u001b[38;5;34m0\u001b[0m][\u001b[38;5;34m0\u001b[0m]   │\n",
              "│ (\u001b[38;5;33mBatchNormalizatio…\u001b[0m │                   │            │                   │\n",
              "├─────────────────────┼───────────────────┼────────────┼───────────────────┤\n",
              "│ conv1d_13 (\u001b[38;5;33mConv1D\u001b[0m)  │ (\u001b[38;5;45mNone\u001b[0m, \u001b[38;5;34m85\u001b[0m, \u001b[38;5;34m32\u001b[0m)    │      \u001b[38;5;34m2,592\u001b[0m │ max_pooling1d_10… │\n",
              "├─────────────────────┼───────────────────┼────────────┼───────────────────┤\n",
              "│ max_pooling1d_8     │ (\u001b[38;5;45mNone\u001b[0m, \u001b[38;5;34m409\u001b[0m, \u001b[38;5;34m16\u001b[0m)   │          \u001b[38;5;34m0\u001b[0m │ batch_normalizat… │\n",
              "│ (\u001b[38;5;33mMaxPooling1D\u001b[0m)      │                   │            │                   │\n",
              "├─────────────────────┼───────────────────┼────────────┼───────────────────┤\n",
              "│ batch_normalizatio… │ (\u001b[38;5;45mNone\u001b[0m, \u001b[38;5;34m85\u001b[0m, \u001b[38;5;34m32\u001b[0m)    │        \u001b[38;5;34m128\u001b[0m │ conv1d_13[\u001b[38;5;34m0\u001b[0m][\u001b[38;5;34m0\u001b[0m]   │\n",
              "│ (\u001b[38;5;33mBatchNormalizatio…\u001b[0m │                   │            │                   │\n",
              "├─────────────────────┼───────────────────┼────────────┼───────────────────┤\n",
              "│ conv1d_11 (\u001b[38;5;33mConv1D\u001b[0m)  │ (\u001b[38;5;45mNone\u001b[0m, \u001b[38;5;34m409\u001b[0m, \u001b[38;5;34m32\u001b[0m)   │      \u001b[38;5;34m2,592\u001b[0m │ max_pooling1d_8[\u001b[38;5;34m…\u001b[0m │\n",
              "├─────────────────────┼───────────────────┼────────────┼───────────────────┤\n",
              "│ max_pooling1d_11    │ (\u001b[38;5;45mNone\u001b[0m, \u001b[38;5;34m28\u001b[0m, \u001b[38;5;34m32\u001b[0m)    │          \u001b[38;5;34m0\u001b[0m │ batch_normalizat… │\n",
              "│ (\u001b[38;5;33mMaxPooling1D\u001b[0m)      │                   │            │                   │\n",
              "├─────────────────────┼───────────────────┼────────────┼───────────────────┤\n",
              "│ batch_normalizatio… │ (\u001b[38;5;45mNone\u001b[0m, \u001b[38;5;34m409\u001b[0m, \u001b[38;5;34m32\u001b[0m)   │        \u001b[38;5;34m128\u001b[0m │ conv1d_11[\u001b[38;5;34m0\u001b[0m][\u001b[38;5;34m0\u001b[0m]   │\n",
              "│ (\u001b[38;5;33mBatchNormalizatio…\u001b[0m │                   │            │                   │\n",
              "├─────────────────────┼───────────────────┼────────────┼───────────────────┤\n",
              "│ conv1d_14 (\u001b[38;5;33mConv1D\u001b[0m)  │ (\u001b[38;5;45mNone\u001b[0m, \u001b[38;5;34m28\u001b[0m, \u001b[38;5;34m64\u001b[0m)    │      \u001b[38;5;34m6,208\u001b[0m │ max_pooling1d_11… │\n",
              "├─────────────────────┼───────────────────┼────────────┼───────────────────┤\n",
              "│ max_pooling1d_9     │ (\u001b[38;5;45mNone\u001b[0m, \u001b[38;5;34m81\u001b[0m, \u001b[38;5;34m32\u001b[0m)    │          \u001b[38;5;34m0\u001b[0m │ batch_normalizat… │\n",
              "│ (\u001b[38;5;33mMaxPooling1D\u001b[0m)      │                   │            │                   │\n",
              "├─────────────────────┼───────────────────┼────────────┼───────────────────┤\n",
              "│ batch_normalizatio… │ (\u001b[38;5;45mNone\u001b[0m, \u001b[38;5;34m28\u001b[0m, \u001b[38;5;34m64\u001b[0m)    │        \u001b[38;5;34m256\u001b[0m │ conv1d_14[\u001b[38;5;34m0\u001b[0m][\u001b[38;5;34m0\u001b[0m]   │\n",
              "│ (\u001b[38;5;33mBatchNormalizatio…\u001b[0m │                   │            │                   │\n",
              "├─────────────────────┼───────────────────┼────────────┼───────────────────┤\n",
              "│ flatten_4 (\u001b[38;5;33mFlatten\u001b[0m) │ (\u001b[38;5;45mNone\u001b[0m, \u001b[38;5;34m2592\u001b[0m)      │          \u001b[38;5;34m0\u001b[0m │ max_pooling1d_9[\u001b[38;5;34m…\u001b[0m │\n",
              "├─────────────────────┼───────────────────┼────────────┼───────────────────┤\n",
              "│ flatten_5 (\u001b[38;5;33mFlatten\u001b[0m) │ (\u001b[38;5;45mNone\u001b[0m, \u001b[38;5;34m1792\u001b[0m)      │          \u001b[38;5;34m0\u001b[0m │ batch_normalizat… │\n",
              "├─────────────────────┼───────────────────┼────────────┼───────────────────┤\n",
              "│ concatenate_2       │ (\u001b[38;5;45mNone\u001b[0m, \u001b[38;5;34m4384\u001b[0m)      │          \u001b[38;5;34m0\u001b[0m │ flatten_4[\u001b[38;5;34m0\u001b[0m][\u001b[38;5;34m0\u001b[0m],  │\n",
              "│ (\u001b[38;5;33mConcatenate\u001b[0m)       │                   │            │ flatten_5[\u001b[38;5;34m0\u001b[0m][\u001b[38;5;34m0\u001b[0m]   │\n",
              "├─────────────────────┼───────────────────┼────────────┼───────────────────┤\n",
              "│ dense_6 (\u001b[38;5;33mDense\u001b[0m)     │ (\u001b[38;5;45mNone\u001b[0m, \u001b[38;5;34m128\u001b[0m)       │    \u001b[38;5;34m561,280\u001b[0m │ concatenate_2[\u001b[38;5;34m0\u001b[0m]… │\n",
              "├─────────────────────┼───────────────────┼────────────┼───────────────────┤\n",
              "│ dropout_2 (\u001b[38;5;33mDropout\u001b[0m) │ (\u001b[38;5;45mNone\u001b[0m, \u001b[38;5;34m128\u001b[0m)       │          \u001b[38;5;34m0\u001b[0m │ dense_6[\u001b[38;5;34m0\u001b[0m][\u001b[38;5;34m0\u001b[0m]     │\n",
              "├─────────────────────┼───────────────────┼────────────┼───────────────────┤\n",
              "│ dense_7 (\u001b[38;5;33mDense\u001b[0m)     │ (\u001b[38;5;45mNone\u001b[0m, \u001b[38;5;34m64\u001b[0m)        │      \u001b[38;5;34m8,256\u001b[0m │ dropout_2[\u001b[38;5;34m0\u001b[0m][\u001b[38;5;34m0\u001b[0m]   │\n",
              "├─────────────────────┼───────────────────┼────────────┼───────────────────┤\n",
              "│ dense_8 (\u001b[38;5;33mDense\u001b[0m)     │ (\u001b[38;5;45mNone\u001b[0m, \u001b[38;5;34m1\u001b[0m)         │         \u001b[38;5;34m65\u001b[0m │ dense_7[\u001b[38;5;34m0\u001b[0m][\u001b[38;5;34m0\u001b[0m]     │\n",
              "└─────────────────────┴───────────────────┴────────────┴───────────────────┘\n"
            ],
            "text/html": [
              "<pre style=\"white-space:pre;overflow-x:auto;line-height:normal;font-family:Menlo,'DejaVu Sans Mono',consolas,'Courier New',monospace\">┏━━━━━━━━━━━━━━━━━━━━━┳━━━━━━━━━━━━━━━━━━━┳━━━━━━━━━━━━┳━━━━━━━━━━━━━━━━━━━┓\n",
              "┃<span style=\"font-weight: bold\"> Layer (type)        </span>┃<span style=\"font-weight: bold\"> Output Shape      </span>┃<span style=\"font-weight: bold\">    Param # </span>┃<span style=\"font-weight: bold\"> Connected to      </span>┃\n",
              "┡━━━━━━━━━━━━━━━━━━━━━╇━━━━━━━━━━━━━━━━━━━╇━━━━━━━━━━━━╇━━━━━━━━━━━━━━━━━━━┩\n",
              "│ local_input         │ (<span style=\"color: #00d7ff; text-decoration-color: #00d7ff\">None</span>, <span style=\"color: #00af00; text-decoration-color: #00af00\">256</span>, <span style=\"color: #00af00; text-decoration-color: #00af00\">1</span>)    │          <span style=\"color: #00af00; text-decoration-color: #00af00\">0</span> │ -                 │\n",
              "│ (<span style=\"color: #0087ff; text-decoration-color: #0087ff\">InputLayer</span>)        │                   │            │                   │\n",
              "├─────────────────────┼───────────────────┼────────────┼───────────────────┤\n",
              "│ conv1d_12 (<span style=\"color: #0087ff; text-decoration-color: #0087ff\">Conv1D</span>)  │ (<span style=\"color: #00d7ff; text-decoration-color: #00d7ff\">None</span>, <span style=\"color: #00af00; text-decoration-color: #00af00\">256</span>, <span style=\"color: #00af00; text-decoration-color: #00af00\">16</span>)   │        <span style=\"color: #00af00; text-decoration-color: #00af00\">128</span> │ local_input[<span style=\"color: #00af00; text-decoration-color: #00af00\">0</span>][<span style=\"color: #00af00; text-decoration-color: #00af00\">0</span>] │\n",
              "├─────────────────────┼───────────────────┼────────────┼───────────────────┤\n",
              "│ global_input        │ (<span style=\"color: #00d7ff; text-decoration-color: #00d7ff\">None</span>, <span style=\"color: #00af00; text-decoration-color: #00af00\">2048</span>, <span style=\"color: #00af00; text-decoration-color: #00af00\">1</span>)   │          <span style=\"color: #00af00; text-decoration-color: #00af00\">0</span> │ -                 │\n",
              "│ (<span style=\"color: #0087ff; text-decoration-color: #0087ff\">InputLayer</span>)        │                   │            │                   │\n",
              "├─────────────────────┼───────────────────┼────────────┼───────────────────┤\n",
              "│ batch_normalizatio… │ (<span style=\"color: #00d7ff; text-decoration-color: #00d7ff\">None</span>, <span style=\"color: #00af00; text-decoration-color: #00af00\">256</span>, <span style=\"color: #00af00; text-decoration-color: #00af00\">16</span>)   │         <span style=\"color: #00af00; text-decoration-color: #00af00\">64</span> │ conv1d_12[<span style=\"color: #00af00; text-decoration-color: #00af00\">0</span>][<span style=\"color: #00af00; text-decoration-color: #00af00\">0</span>]   │\n",
              "│ (<span style=\"color: #0087ff; text-decoration-color: #0087ff\">BatchNormalizatio…</span> │                   │            │                   │\n",
              "├─────────────────────┼───────────────────┼────────────┼───────────────────┤\n",
              "│ conv1d_10 (<span style=\"color: #0087ff; text-decoration-color: #0087ff\">Conv1D</span>)  │ (<span style=\"color: #00d7ff; text-decoration-color: #00d7ff\">None</span>, <span style=\"color: #00af00; text-decoration-color: #00af00\">2048</span>, <span style=\"color: #00af00; text-decoration-color: #00af00\">16</span>)  │        <span style=\"color: #00af00; text-decoration-color: #00af00\">128</span> │ global_input[<span style=\"color: #00af00; text-decoration-color: #00af00\">0</span>][<span style=\"color: #00af00; text-decoration-color: #00af00\">…</span> │\n",
              "├─────────────────────┼───────────────────┼────────────┼───────────────────┤\n",
              "│ max_pooling1d_10    │ (<span style=\"color: #00d7ff; text-decoration-color: #00d7ff\">None</span>, <span style=\"color: #00af00; text-decoration-color: #00af00\">85</span>, <span style=\"color: #00af00; text-decoration-color: #00af00\">16</span>)    │          <span style=\"color: #00af00; text-decoration-color: #00af00\">0</span> │ batch_normalizat… │\n",
              "│ (<span style=\"color: #0087ff; text-decoration-color: #0087ff\">MaxPooling1D</span>)      │                   │            │                   │\n",
              "├─────────────────────┼───────────────────┼────────────┼───────────────────┤\n",
              "│ batch_normalizatio… │ (<span style=\"color: #00d7ff; text-decoration-color: #00d7ff\">None</span>, <span style=\"color: #00af00; text-decoration-color: #00af00\">2048</span>, <span style=\"color: #00af00; text-decoration-color: #00af00\">16</span>)  │         <span style=\"color: #00af00; text-decoration-color: #00af00\">64</span> │ conv1d_10[<span style=\"color: #00af00; text-decoration-color: #00af00\">0</span>][<span style=\"color: #00af00; text-decoration-color: #00af00\">0</span>]   │\n",
              "│ (<span style=\"color: #0087ff; text-decoration-color: #0087ff\">BatchNormalizatio…</span> │                   │            │                   │\n",
              "├─────────────────────┼───────────────────┼────────────┼───────────────────┤\n",
              "│ conv1d_13 (<span style=\"color: #0087ff; text-decoration-color: #0087ff\">Conv1D</span>)  │ (<span style=\"color: #00d7ff; text-decoration-color: #00d7ff\">None</span>, <span style=\"color: #00af00; text-decoration-color: #00af00\">85</span>, <span style=\"color: #00af00; text-decoration-color: #00af00\">32</span>)    │      <span style=\"color: #00af00; text-decoration-color: #00af00\">2,592</span> │ max_pooling1d_10… │\n",
              "├─────────────────────┼───────────────────┼────────────┼───────────────────┤\n",
              "│ max_pooling1d_8     │ (<span style=\"color: #00d7ff; text-decoration-color: #00d7ff\">None</span>, <span style=\"color: #00af00; text-decoration-color: #00af00\">409</span>, <span style=\"color: #00af00; text-decoration-color: #00af00\">16</span>)   │          <span style=\"color: #00af00; text-decoration-color: #00af00\">0</span> │ batch_normalizat… │\n",
              "│ (<span style=\"color: #0087ff; text-decoration-color: #0087ff\">MaxPooling1D</span>)      │                   │            │                   │\n",
              "├─────────────────────┼───────────────────┼────────────┼───────────────────┤\n",
              "│ batch_normalizatio… │ (<span style=\"color: #00d7ff; text-decoration-color: #00d7ff\">None</span>, <span style=\"color: #00af00; text-decoration-color: #00af00\">85</span>, <span style=\"color: #00af00; text-decoration-color: #00af00\">32</span>)    │        <span style=\"color: #00af00; text-decoration-color: #00af00\">128</span> │ conv1d_13[<span style=\"color: #00af00; text-decoration-color: #00af00\">0</span>][<span style=\"color: #00af00; text-decoration-color: #00af00\">0</span>]   │\n",
              "│ (<span style=\"color: #0087ff; text-decoration-color: #0087ff\">BatchNormalizatio…</span> │                   │            │                   │\n",
              "├─────────────────────┼───────────────────┼────────────┼───────────────────┤\n",
              "│ conv1d_11 (<span style=\"color: #0087ff; text-decoration-color: #0087ff\">Conv1D</span>)  │ (<span style=\"color: #00d7ff; text-decoration-color: #00d7ff\">None</span>, <span style=\"color: #00af00; text-decoration-color: #00af00\">409</span>, <span style=\"color: #00af00; text-decoration-color: #00af00\">32</span>)   │      <span style=\"color: #00af00; text-decoration-color: #00af00\">2,592</span> │ max_pooling1d_8[<span style=\"color: #00af00; text-decoration-color: #00af00\">…</span> │\n",
              "├─────────────────────┼───────────────────┼────────────┼───────────────────┤\n",
              "│ max_pooling1d_11    │ (<span style=\"color: #00d7ff; text-decoration-color: #00d7ff\">None</span>, <span style=\"color: #00af00; text-decoration-color: #00af00\">28</span>, <span style=\"color: #00af00; text-decoration-color: #00af00\">32</span>)    │          <span style=\"color: #00af00; text-decoration-color: #00af00\">0</span> │ batch_normalizat… │\n",
              "│ (<span style=\"color: #0087ff; text-decoration-color: #0087ff\">MaxPooling1D</span>)      │                   │            │                   │\n",
              "├─────────────────────┼───────────────────┼────────────┼───────────────────┤\n",
              "│ batch_normalizatio… │ (<span style=\"color: #00d7ff; text-decoration-color: #00d7ff\">None</span>, <span style=\"color: #00af00; text-decoration-color: #00af00\">409</span>, <span style=\"color: #00af00; text-decoration-color: #00af00\">32</span>)   │        <span style=\"color: #00af00; text-decoration-color: #00af00\">128</span> │ conv1d_11[<span style=\"color: #00af00; text-decoration-color: #00af00\">0</span>][<span style=\"color: #00af00; text-decoration-color: #00af00\">0</span>]   │\n",
              "│ (<span style=\"color: #0087ff; text-decoration-color: #0087ff\">BatchNormalizatio…</span> │                   │            │                   │\n",
              "├─────────────────────┼───────────────────┼────────────┼───────────────────┤\n",
              "│ conv1d_14 (<span style=\"color: #0087ff; text-decoration-color: #0087ff\">Conv1D</span>)  │ (<span style=\"color: #00d7ff; text-decoration-color: #00d7ff\">None</span>, <span style=\"color: #00af00; text-decoration-color: #00af00\">28</span>, <span style=\"color: #00af00; text-decoration-color: #00af00\">64</span>)    │      <span style=\"color: #00af00; text-decoration-color: #00af00\">6,208</span> │ max_pooling1d_11… │\n",
              "├─────────────────────┼───────────────────┼────────────┼───────────────────┤\n",
              "│ max_pooling1d_9     │ (<span style=\"color: #00d7ff; text-decoration-color: #00d7ff\">None</span>, <span style=\"color: #00af00; text-decoration-color: #00af00\">81</span>, <span style=\"color: #00af00; text-decoration-color: #00af00\">32</span>)    │          <span style=\"color: #00af00; text-decoration-color: #00af00\">0</span> │ batch_normalizat… │\n",
              "│ (<span style=\"color: #0087ff; text-decoration-color: #0087ff\">MaxPooling1D</span>)      │                   │            │                   │\n",
              "├─────────────────────┼───────────────────┼────────────┼───────────────────┤\n",
              "│ batch_normalizatio… │ (<span style=\"color: #00d7ff; text-decoration-color: #00d7ff\">None</span>, <span style=\"color: #00af00; text-decoration-color: #00af00\">28</span>, <span style=\"color: #00af00; text-decoration-color: #00af00\">64</span>)    │        <span style=\"color: #00af00; text-decoration-color: #00af00\">256</span> │ conv1d_14[<span style=\"color: #00af00; text-decoration-color: #00af00\">0</span>][<span style=\"color: #00af00; text-decoration-color: #00af00\">0</span>]   │\n",
              "│ (<span style=\"color: #0087ff; text-decoration-color: #0087ff\">BatchNormalizatio…</span> │                   │            │                   │\n",
              "├─────────────────────┼───────────────────┼────────────┼───────────────────┤\n",
              "│ flatten_4 (<span style=\"color: #0087ff; text-decoration-color: #0087ff\">Flatten</span>) │ (<span style=\"color: #00d7ff; text-decoration-color: #00d7ff\">None</span>, <span style=\"color: #00af00; text-decoration-color: #00af00\">2592</span>)      │          <span style=\"color: #00af00; text-decoration-color: #00af00\">0</span> │ max_pooling1d_9[<span style=\"color: #00af00; text-decoration-color: #00af00\">…</span> │\n",
              "├─────────────────────┼───────────────────┼────────────┼───────────────────┤\n",
              "│ flatten_5 (<span style=\"color: #0087ff; text-decoration-color: #0087ff\">Flatten</span>) │ (<span style=\"color: #00d7ff; text-decoration-color: #00d7ff\">None</span>, <span style=\"color: #00af00; text-decoration-color: #00af00\">1792</span>)      │          <span style=\"color: #00af00; text-decoration-color: #00af00\">0</span> │ batch_normalizat… │\n",
              "├─────────────────────┼───────────────────┼────────────┼───────────────────┤\n",
              "│ concatenate_2       │ (<span style=\"color: #00d7ff; text-decoration-color: #00d7ff\">None</span>, <span style=\"color: #00af00; text-decoration-color: #00af00\">4384</span>)      │          <span style=\"color: #00af00; text-decoration-color: #00af00\">0</span> │ flatten_4[<span style=\"color: #00af00; text-decoration-color: #00af00\">0</span>][<span style=\"color: #00af00; text-decoration-color: #00af00\">0</span>],  │\n",
              "│ (<span style=\"color: #0087ff; text-decoration-color: #0087ff\">Concatenate</span>)       │                   │            │ flatten_5[<span style=\"color: #00af00; text-decoration-color: #00af00\">0</span>][<span style=\"color: #00af00; text-decoration-color: #00af00\">0</span>]   │\n",
              "├─────────────────────┼───────────────────┼────────────┼───────────────────┤\n",
              "│ dense_6 (<span style=\"color: #0087ff; text-decoration-color: #0087ff\">Dense</span>)     │ (<span style=\"color: #00d7ff; text-decoration-color: #00d7ff\">None</span>, <span style=\"color: #00af00; text-decoration-color: #00af00\">128</span>)       │    <span style=\"color: #00af00; text-decoration-color: #00af00\">561,280</span> │ concatenate_2[<span style=\"color: #00af00; text-decoration-color: #00af00\">0</span>]… │\n",
              "├─────────────────────┼───────────────────┼────────────┼───────────────────┤\n",
              "│ dropout_2 (<span style=\"color: #0087ff; text-decoration-color: #0087ff\">Dropout</span>) │ (<span style=\"color: #00d7ff; text-decoration-color: #00d7ff\">None</span>, <span style=\"color: #00af00; text-decoration-color: #00af00\">128</span>)       │          <span style=\"color: #00af00; text-decoration-color: #00af00\">0</span> │ dense_6[<span style=\"color: #00af00; text-decoration-color: #00af00\">0</span>][<span style=\"color: #00af00; text-decoration-color: #00af00\">0</span>]     │\n",
              "├─────────────────────┼───────────────────┼────────────┼───────────────────┤\n",
              "│ dense_7 (<span style=\"color: #0087ff; text-decoration-color: #0087ff\">Dense</span>)     │ (<span style=\"color: #00d7ff; text-decoration-color: #00d7ff\">None</span>, <span style=\"color: #00af00; text-decoration-color: #00af00\">64</span>)        │      <span style=\"color: #00af00; text-decoration-color: #00af00\">8,256</span> │ dropout_2[<span style=\"color: #00af00; text-decoration-color: #00af00\">0</span>][<span style=\"color: #00af00; text-decoration-color: #00af00\">0</span>]   │\n",
              "├─────────────────────┼───────────────────┼────────────┼───────────────────┤\n",
              "│ dense_8 (<span style=\"color: #0087ff; text-decoration-color: #0087ff\">Dense</span>)     │ (<span style=\"color: #00d7ff; text-decoration-color: #00d7ff\">None</span>, <span style=\"color: #00af00; text-decoration-color: #00af00\">1</span>)         │         <span style=\"color: #00af00; text-decoration-color: #00af00\">65</span> │ dense_7[<span style=\"color: #00af00; text-decoration-color: #00af00\">0</span>][<span style=\"color: #00af00; text-decoration-color: #00af00\">0</span>]     │\n",
              "└─────────────────────┴───────────────────┴────────────┴───────────────────┘\n",
              "</pre>\n"
            ]
          },
          "metadata": {}
        },
        {
          "output_type": "display_data",
          "data": {
            "text/plain": [
              "\u001b[1m Total params: \u001b[0m\u001b[38;5;34m581,889\u001b[0m (2.22 MB)\n"
            ],
            "text/html": [
              "<pre style=\"white-space:pre;overflow-x:auto;line-height:normal;font-family:Menlo,'DejaVu Sans Mono',consolas,'Courier New',monospace\"><span style=\"font-weight: bold\"> Total params: </span><span style=\"color: #00af00; text-decoration-color: #00af00\">581,889</span> (2.22 MB)\n",
              "</pre>\n"
            ]
          },
          "metadata": {}
        },
        {
          "output_type": "display_data",
          "data": {
            "text/plain": [
              "\u001b[1m Trainable params: \u001b[0m\u001b[38;5;34m581,569\u001b[0m (2.22 MB)\n"
            ],
            "text/html": [
              "<pre style=\"white-space:pre;overflow-x:auto;line-height:normal;font-family:Menlo,'DejaVu Sans Mono',consolas,'Courier New',monospace\"><span style=\"font-weight: bold\"> Trainable params: </span><span style=\"color: #00af00; text-decoration-color: #00af00\">581,569</span> (2.22 MB)\n",
              "</pre>\n"
            ]
          },
          "metadata": {}
        },
        {
          "output_type": "display_data",
          "data": {
            "text/plain": [
              "\u001b[1m Non-trainable params: \u001b[0m\u001b[38;5;34m320\u001b[0m (1.25 KB)\n"
            ],
            "text/html": [
              "<pre style=\"white-space:pre;overflow-x:auto;line-height:normal;font-family:Menlo,'DejaVu Sans Mono',consolas,'Courier New',monospace\"><span style=\"font-weight: bold\"> Non-trainable params: </span><span style=\"color: #00af00; text-decoration-color: #00af00\">320</span> (1.25 KB)\n",
              "</pre>\n"
            ]
          },
          "metadata": {}
        }
      ]
    },
    {
      "cell_type": "code",
      "source": [
        "# ==============================================================================\n",
        "# ЯЧЕЙКА 5: ОБУЧЕНИЕ МОДЕЛИ (Исправленная версия)\n",
        "# ==============================================================================\n",
        "\n",
        "print(\"Начинаем обучение модели...\")\n",
        "\n",
        "# Добавим колбэки для сохранения лучшей модели и ранней остановки\n",
        "callbacks = [\n",
        "    tf.keras.callbacks.EarlyStopping(patience=5, monitor='val_loss'),\n",
        "    tf.keras.callbacks.ModelCheckpoint(filepath='best_model.h5',\n",
        "                                       save_best_only=True,\n",
        "                                       monitor='val_accuracy')\n",
        "]\n",
        "\n",
        "# ИСПРАВЛЕНИЕ: Мы убрали аргумент `workers=2`, так как он больше не поддерживается в `model.fit()`\n",
        "# Keras автоматически будет использовать эффективную загрузку данных с генератором Sequence.\n",
        "history = model.fit(\n",
        "    train_gen,\n",
        "    validation_data=val_gen,\n",
        "    epochs=EPOCHS,\n",
        "    callbacks=callbacks\n",
        ")\n",
        "\n",
        "print(\"\\nОбучение завершено!\")\n",
        "\n",
        "# Визуализируем результаты\n",
        "import matplotlib.pyplot as plt\n",
        "\n",
        "plt.figure(figsize=(12, 4))\n",
        "plt.subplot(1, 2, 1)\n",
        "plt.plot(history.history['accuracy'], label='Training Accuracy')\n",
        "plt.plot(history.history['val_accuracy'], label='Validation Accuracy')\n",
        "plt.title('Accuracy')\n",
        "plt.legend()\n",
        "\n",
        "plt.subplot(1, 2, 2)\n",
        "plt.plot(history.history['loss'], label='Training Loss')\n",
        "plt.plot(history.history['val_loss'], label='Validation Loss')\n",
        "plt.title('Loss')\n",
        "plt.legend()\n",
        "\n",
        "plt.show()"
      ],
      "metadata": {
        "colab": {
          "base_uri": "https://localhost:8080/"
        },
        "id": "RUsuFyjv-gV0",
        "outputId": "adc2dd0a-6a2f-4eca-d12b-43203b5c5c5a"
      },
      "execution_count": null,
      "outputs": [
        {
          "output_type": "stream",
          "name": "stdout",
          "text": [
            "Начинаем обучение модели...\n"
          ]
        },
        {
          "output_type": "stream",
          "name": "stderr",
          "text": [
            "/usr/local/lib/python3.12/dist-packages/keras/src/trainers/data_adapters/py_dataset_adapter.py:121: UserWarning: Your `PyDataset` class should call `super().__init__(**kwargs)` in its constructor. `**kwargs` can include `workers`, `use_multiprocessing`, `max_queue_size`. Do not pass these arguments to `fit()`, as they will be ignored.\n",
            "  self._warn_if_super_not_called()\n"
          ]
        },
        {
          "output_type": "stream",
          "name": "stdout",
          "text": [
            "Epoch 1/13\n",
            "\u001b[1m 4/13\u001b[0m \u001b[32m━━━━━━\u001b[0m\u001b[37m━━━━━━━━━━━━━━\u001b[0m \u001b[1m1:41\u001b[0m 11s/step - accuracy: 1.0000 - loss: 0.6928"
          ]
        }
      ]
    }
  ]
}